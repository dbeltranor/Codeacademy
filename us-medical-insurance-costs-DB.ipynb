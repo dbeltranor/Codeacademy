{
 "cells": [
  {
   "cell_type": "markdown",
   "metadata": {},
   "source": [
    "# U.S. Medical Insurance Costs"
   ]
  },
  {
   "cell_type": "raw",
   "metadata": {},
   "source": [
    "Project goals:\n",
    "**Verify the average insurance cost\n",
    "**Verify Avg. age of people with insurance\n",
    "**Verify Avg. smokers\n",
    "**Verify Avg. people with children\n",
    "**How much influences the region during the cost quotation"
   ]
  },
  {
   "cell_type": "code",
   "execution_count": 30,
   "metadata": {},
   "outputs": [],
   "source": [
    "import csv\n",
    "from decimal import Decimal"
   ]
  },
  {
   "cell_type": "code",
   "execution_count": 31,
   "metadata": {},
   "outputs": [],
   "source": [
    "age = []\n",
    "sex = []\n",
    "bmi = []\n",
    "children = []\n",
    "smoker = []\n",
    "region = []\n",
    "charges = []"
   ]
  },
  {
   "cell_type": "code",
   "execution_count": 57,
   "metadata": {},
   "outputs": [],
   "source": [
    "with open('insurance.csv', 'r') as insurance:\n",
    "    insurance_file = csv.DictReader(insurance)\n",
    "    for row in insurance_file:\n",
    "        age.append(row['age'])\n",
    "        sex.append(row['sex'])\n",
    "        bmi.append(row['bmi'])\n",
    "        children.append(row['children'])\n",
    "        smoker.append(row['smoker'])\n",
    "        region.append(row['region'])\n",
    "        charges.append(row['charges'])"
   ]
  },
  {
   "cell_type": "code",
   "execution_count": 33,
   "metadata": {},
   "outputs": [],
   "source": [
    "insurance_dict = {'Age': age,\n",
    "                 'Sex': sex,\n",
    "                 'BMI': bmi,\n",
    "                 'Children': children,\n",
    "                 'Smoker': smoker,\n",
    "                 'Region': region,\n",
    "                 'Charges': charges}"
   ]
  },
  {
   "cell_type": "code",
   "execution_count": 72,
   "metadata": {},
   "outputs": [],
   "source": [
    "#Working on Age\n",
    "def age_data(age):\n",
    "    total_age = 0\n",
    "    oldest_person = 0\n",
    "    youngest_person = float('inf')\n",
    "\n",
    "    for i in age:\n",
    "        converted_i = int(i)\n",
    "        total_age += converted_i\n",
    "        if converted_i > oldest_person:\n",
    "            oldest_person = converted_i\n",
    "        if converted_i < youngest_person:\n",
    "            youngest_person = converted_i\n",
    "    avg_age = total_age / len(age)\n",
    "    return avg_age, oldest_person, youngest_person\n",
    "\n",
    "def age_quartiles_perc(data):\n",
    "    from_18_to_29 = []\n",
    "    from_30_to_40 = []\n",
    "    from_41_to_50 = []\n",
    "    from_51_to_64 = []\n",
    "\n",
    "    for i in data:\n",
    "        if int(i) < 30:\n",
    "            from_18_to_29.append(i)\n",
    "        elif int(i) < 41:\n",
    "            from_30_to_40.append(i)\n",
    "        elif int(i) < 51:\n",
    "            from_41_to_50.append(i)\n",
    "        elif int(i) < 65:\n",
    "            from_51_to_64.append(i)\n",
    "\n",
    "    a = len(from_18_to_29)/len(age)\n",
    "    b = len(from_30_to_40)/len(age)\n",
    "    c = len(from_41_to_50)/len(age)\n",
    "    d = len(from_51_to_64)/len(age)\n",
    "\n",
    "    return a, b, c, d\n"
   ]
  },
  {
   "cell_type": "code",
   "execution_count": 92,
   "metadata": {},
   "outputs": [],
   "source": [
    "a, b, c, d = age_quartiles_perc(age)"
   ]
  },
  {
   "cell_type": "markdown",
   "metadata": {},
   "source": [
    "After verifiying and working on the age data we can see the following results:\n",
    "\n",
    "Average Age of insuranced person: 39 Years\n",
    "\n",
    "* % of insurance person based on their age range:\n",
    "    * From 18 years to 29: 31,16%\n",
    "    * From 30 years to 40: 21,22%\n",
    "    * From 41 years to 50: 21,00%\n",
    "    * From 51 years to 64: 26,60%\n",
    "\n",
    "The results shows an intereting amount of people getting insuranced during their early years, these could be due to less finantial responsabilities or working benefits like loans, housing, children, etc. \n",
    "\n",
    "During the next two decades, we get a 10 points decrease on insuranced population that will increase 5 points in the last quartile. Many reason could be behind these results and in order to provide a much conclusive report, other parameters should be taken into consideration like:\n",
    "\n",
    "    * Mortality rate.\n",
    "    * How many people ovber their 50s still have children to take care of\n",
    "    * Job packages"
   ]
  },
  {
   "cell_type": "code",
   "execution_count": 36,
   "metadata": {},
   "outputs": [],
   "source": [
    "#working on sex\n",
    "def sex_percentage(sex):\n",
    "    male = 0\n",
    "    female = 0\n",
    "    for i in sex:\n",
    "        if i == 'male':\n",
    "            male += 1\n",
    "        elif i == 'female':\n",
    "            female += 1\n",
    "    \n",
    "    male_perc = male / len(sex)\n",
    "    female_perc = female / len(sex)\n",
    "    \n",
    "    return male_perc, female_perc"
   ]
  },
  {
   "cell_type": "code",
   "execution_count": 93,
   "metadata": {},
   "outputs": [],
   "source": [
    "m, f = sex_percentage(sex)"
   ]
  },
  {
   "cell_type": "markdown",
   "metadata": {},
   "source": [
    "We are not ablke to identify a mayor tendency between genders, the current data shows only half point difference.\n",
    "\n",
    "* Gender:\n",
    "    * Masculine: 50,52%\n",
    "    * Feminine: 49,47%"
   ]
  },
  {
   "cell_type": "code",
   "execution_count": 44,
   "metadata": {},
   "outputs": [],
   "source": [
    "#working on children - Who's getting more insurance service.\n",
    "\n",
    "def insurance_per_children(data):\n",
    "    unique = []\n",
    "    child_dict = {}\n",
    "    for i in data:\n",
    "        if i not in unique:\n",
    "            unique.append(i)\n",
    "\n",
    "    unique = sorted(unique)\n",
    "    #print(unique)\n",
    "    for child in unique:\n",
    "        count = 0\n",
    "        for i in data:\n",
    "            if child == i:\n",
    "                count += 1\n",
    "        child_dict[child] = count\n",
    "\n",
    "\n",
    "    return child_dict  \n",
    "\n",
    "def insurance_children_perc(data):\n",
    "    lenght = len(data)\n",
    "    perc = {}\n",
    "    for k, v in child_dict.items():\n",
    "        perc[k] = (v/lenght)*100\n",
    "\n",
    "    return perc\n",
    "    "
   ]
  },
  {
   "cell_type": "markdown",
   "metadata": {},
   "source": [
    "On the children scenario, would could confirm that the amount of children that a person have will impact greatly on their decision to get an insurance.\n",
    "\n",
    "Once again finantial responsabilities shows to be a decisive factor.\n",
    "\n",
    "* % of insurance people depending on their children:\n",
    "    * No Children: 42.90%\n",
    "    * 1 Child: 24,22%\n",
    "    * 2 Children: 17,94%\n",
    "    * 3 Children: 11,73%\n",
    "    * 4 Children: 1,87%\n",
    "    * 5 Children: 1,35%"
   ]
  },
  {
   "cell_type": "code",
   "execution_count": 85,
   "metadata": {},
   "outputs": [],
   "source": [
    "#Verifiying the number of smokers:\n",
    "\n",
    "def smoker_perc(data):\n",
    "    count = 0\n",
    "    for d in data:\n",
    "        if d == 'yes':\n",
    "            count += 1\n",
    "            \n",
    "    non_smoker = len(data) - count\n",
    "    smoker = count\n",
    "    non_smoker_perc = non_smoker/len(data)\n",
    "    smoker_perc = smoker/len(data)\n",
    "    \n",
    "    return non_smoker, non_smoker_perc, smoker, smoker_perc"
   ]
  },
  {
   "cell_type": "markdown",
   "metadata": {},
   "source": [
    "Data shows smokers does not get insurance services, this could be due to the high fees applied to smokers. From the provided sample, only 20.48% are smokers."
   ]
  },
  {
   "cell_type": "code",
   "execution_count": 88,
   "metadata": {},
   "outputs": [],
   "source": [
    "#Getting areas:\n",
    "def getting_unique_areas(data):\n",
    "    unique = []\n",
    "    for i in data:\n",
    "        if i not in unique:\n",
    "            unique.append(i)\n",
    "    return unique"
   ]
  },
  {
   "cell_type": "markdown",
   "metadata": {},
   "source": [
    "Lastly, there are for different areas represented in cardinalpoints. This information does not provide major information."
   ]
  }
 ],
 "metadata": {
  "kernelspec": {
   "display_name": "Python 3 (ipykernel)",
   "language": "python",
   "name": "python3"
  },
  "language_info": {
   "codemirror_mode": {
    "name": "ipython",
    "version": 3
   },
   "file_extension": ".py",
   "mimetype": "text/x-python",
   "name": "python",
   "nbconvert_exporter": "python",
   "pygments_lexer": "ipython3",
   "version": "3.9.7"
  }
 },
 "nbformat": 4,
 "nbformat_minor": 4
}
